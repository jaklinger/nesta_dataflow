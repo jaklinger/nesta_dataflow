{
 "cells": [
  {
   "cell_type": "code",
   "execution_count": 1,
   "metadata": {
    "collapsed": true
   },
   "outputs": [],
   "source": [
    "#Babyl disambiguation"
   ]
  },
  {
   "cell_type": "code",
   "execution_count": 16,
   "metadata": {
    "collapsed": true
   },
   "outputs": [],
   "source": [
    "api_key='2c568dae-79a3-483e-b220-538cf4140531'"
   ]
  },
  {
   "cell_type": "code",
   "execution_count": 90,
   "metadata": {},
   "outputs": [
    {
     "name": "stdout",
     "output_type": "stream",
     "text": [
      "clean bn:00085059v\n",
      "windows bn:00081285n\n",
      "like bn:00090362v\n",
      "program bn:00064646n\n",
      "computers bn:00021464n\n",
      "Windows bn:00081285n\n",
      "machines bn:00052556n\n",
      "program bn:00064646n\n",
      "Windows computers bn:00081305n\n",
      "['I clean_0 windows_0', 'I like_0 to program_0 computers_0 on windows_0 machines_0', 'I am cleaner than him', 'I program_0 on windows_computers_0']\n"
     ]
    }
   ],
   "source": [
    "import requests\n",
    "\n",
    "class UniqueChars(list):\n",
    "    def append(self,value):\n",
    "        s,e = value\n",
    "        length = (e - s)\n",
    "        for idx,(start,end) in enumerate(self):\n",
    "            _length = (end - start)\n",
    "            if (start == s) | (end == e):\n",
    "                if length > _length:\n",
    "                    self[idx] = value\n",
    "                return None                \n",
    "        super().append(value)\n",
    "\n",
    "def disambiguate(text,api_key,thesaurus={}):\n",
    "    # Ingoing text\n",
    "    url = 'https://babelfy.io/v1/disambiguate'\n",
    "    params = {'text' : text,\n",
    "              'lang' : 'EN',\n",
    "              'key'  : api_key}\n",
    "    headers = {'Accept-encoding':'gzip'}\n",
    "    r = requests.get(service_url,params=params,headers=headers)\n",
    "    r.raise_for_status()\n",
    "    data = r.json()\n",
    "\n",
    "    unique_chars = UniqueChars()\n",
    "    for row in data:\n",
    "        char_range = sorted(row['charFragment'].values())\n",
    "        unique_chars.append(char_range)\n",
    "\n",
    "    # Outgoing text\n",
    "    out_text = text\n",
    "    for row in data:\n",
    "        sense = row['babelSynsetID']        \n",
    "        char_range = sorted(row['charFragment'].values())\n",
    "        if char_range not in unique_chars:\n",
    "            continue        \n",
    "        word = text[char_range[0]:char_range[1]+1]\n",
    "        print(word,sense)\n",
    "        if not word in thesaurus:\n",
    "            thesaurus[word] = []\n",
    "        if sense not in thesaurus[word]:\n",
    "            thesaurus[word].append(sense)\n",
    "        sense_idx = thesaurus[word].index(sense)\n",
    "        \n",
    "        new_word = word.replace(\" \",\"_\")+\"_\"+str(sense_idx)\n",
    "        out_text = out_text.replace(word,new_word.lower())\n",
    "    return out_text,thesaurus\n",
    "\n",
    "thesaurus = {}\n",
    "input_sentences = [\"I clean windows\",\"I like to program computers on Windows machines\",\"I am cleaner than him\",\"I program on Windows computers\"]\n",
    "output_sentences = []\n",
    "for sentence in input_sentences:\n",
    "    result,thesaurus = disambiguate(sentence,api_key=api_key,thesaurus=thesaurus)\n",
    "    output_sentences.append(result)\n",
    "    \n",
    "print(output_sentences)"
   ]
  },
  {
   "cell_type": "code",
   "execution_count": 82,
   "metadata": {},
   "outputs": [
    {
     "data": {
      "text/plain": [
       "['I am a windows_0 cleaner', 'I like_0 windows_computers_0']"
      ]
     },
     "execution_count": 82,
     "metadata": {},
     "output_type": "execute_result"
    }
   ],
   "source": [
    "output_sentences"
   ]
  },
  {
   "cell_type": "code",
   "execution_count": 47,
   "metadata": {},
   "outputs": [
    {
     "data": {
      "text/plain": [
       "{'computer': ['bn:00021464n'], 'windows': ['bn:00081285n']}"
      ]
     },
     "execution_count": 47,
     "metadata": {},
     "output_type": "execute_result"
    }
   ],
   "source": [
    "thesaurus"
   ]
  },
  {
   "cell_type": "code",
   "execution_count": 54,
   "metadata": {},
   "outputs": [
    {
     "data": {
      "text/plain": [
       "[{'BabelNetURL': 'http://babelnet.org/rdf/s00081285n',\n",
       "  'DBpediaURL': 'http://dbpedia.org/resource/Window',\n",
       "  'babelSynsetID': 'bn:00081285n',\n",
       "  'charFragment': {'end': 13, 'start': 7},\n",
       "  'coherenceScore': 0.0,\n",
       "  'globalScore': 0.0,\n",
       "  'score': 0.0,\n",
       "  'source': 'MCS',\n",
       "  'tokenFragment': {'end': 3, 'start': 3}}]"
      ]
     },
     "execution_count": 54,
     "metadata": {},
     "output_type": "execute_result"
    }
   ],
   "source": [
    "data"
   ]
  },
  {
   "cell_type": "code",
   "execution_count": 62,
   "metadata": {},
   "outputs": [
    {
     "ename": "AttributeError",
     "evalue": "'list' object has no attribute 'replace'",
     "output_type": "error",
     "traceback": [
      "\u001b[0;31m---------------------------------------------------------------------------\u001b[0m",
      "\u001b[0;31mAttributeError\u001b[0m                            Traceback (most recent call last)",
      "\u001b[0;32m<ipython-input-62-4f0548e209d4>\u001b[0m in \u001b[0;36m<module>\u001b[0;34m()\u001b[0m\n\u001b[1;32m      1\u001b[0m \u001b[0ma\u001b[0m \u001b[0;34m=\u001b[0m \u001b[0;34m[\u001b[0m\u001b[0;34m\"a\"\u001b[0m\u001b[0;34m,\u001b[0m\u001b[0;34m\"a\"\u001b[0m\u001b[0;34m]\u001b[0m\u001b[0;34m\u001b[0m\u001b[0m\n\u001b[0;32m----> 2\u001b[0;31m \u001b[0ma\u001b[0m\u001b[0;34m.\u001b[0m\u001b[0mreplace\u001b[0m\u001b[0;34m(\u001b[0m\u001b[0;34m\"a\"\u001b[0m\u001b[0;34m,\u001b[0m\u001b[0;34m\"b\"\u001b[0m\u001b[0;34m)\u001b[0m\u001b[0;34m\u001b[0m\u001b[0m\n\u001b[0m",
      "\u001b[0;31mAttributeError\u001b[0m: 'list' object has no attribute 'replace'"
     ]
    }
   ],
   "source": [
    "a = [\"a\",\"a\"]\n",
    "a.replace(\"a\",\"b\")"
   ]
  },
  {
   "cell_type": "code",
   "execution_count": 61,
   "metadata": {},
   "outputs": [
    {
     "data": {
      "text/plain": [
       "['a']"
      ]
     },
     "execution_count": 61,
     "metadata": {},
     "output_type": "execute_result"
    }
   ],
   "source": [
    "a"
   ]
  },
  {
   "cell_type": "code",
   "execution_count": null,
   "metadata": {
    "collapsed": true
   },
   "outputs": [],
   "source": []
  }
 ],
 "metadata": {
  "kernelspec": {
   "display_name": "Python [conda env:py36]",
   "language": "python",
   "name": "conda-env-py36-py"
  },
  "language_info": {
   "codemirror_mode": {
    "name": "ipython",
    "version": 3
   },
   "file_extension": ".py",
   "mimetype": "text/x-python",
   "name": "python",
   "nbconvert_exporter": "python",
   "pygments_lexer": "ipython3",
   "version": "3.6.3"
  }
 },
 "nbformat": 4,
 "nbformat_minor": 2
}
